{
 "cells": [
  {
   "cell_type": "code",
   "execution_count": 3,
   "metadata": {},
   "outputs": [],
   "source": [
    "from __future__ import print_function\n",
    "\n",
    "import sys\n",
    "from operator import add\n",
    "import pyspark\n",
    "import os\n",
    "\n",
    "def convert(lines):\n",
    "    for i in [2,20,23]:\n",
    "        try:\n",
    "            isnumber = float(lines[i])\n",
    "        except ValueError:\n",
    "            if i==9 or i==14:\n",
    "                lines[i] = '0000'\n",
    "            else:\n",
    "                lines[i]='0.00'\n",
    "\n",
    "    crs_dep_time = int(lines[9][0:2])*60 + int(lines[9][2:])\n",
    "    crs_arr_time = int(lines[14][0:2])*60 + int(lines[14][2:])\n",
    "    data_row = [lines[1],lines[2],lines[3],lines[4],lines[5],lines[6],lines[7],\n",
    "                lines[8],crs_dep_time,crs_arr_time,lines[20],lines[23],lines[11],lines[16]]\n",
    "    return(data_row)\n",
    "\n",
    "if __name__ == \"__main__\":\n",
    "    input_path = \"/mnt/wiktorskit-jungwonseo-ns0000k/home/notebook/group03/Predict-Delay/Dataset/whole_train_data.csv\"\n",
    "    output_path = \"/mnt/wiktorskit-jungwonseo-ns0000k/home/notebook/group03/Renny-temp/testing\"\n",
    "    \n",
    "    if not os.path.isfile(input_path) or \"/mnt/\" not in input_path or len(output_path)==0:\n",
    "        print(\"Please check your input path again\")\n",
    "        sys.exit(-1)\n",
    "\n",
    "    sc = pyspark.SparkContext.getOrCreate()\n",
    "\n",
    "    text_file = sc.textFile(\"file://\"+input_path)\n",
    "    counts = text_file.map(lambda line: line.replace('\"', '').split(',')) \\\n",
    "                 .filter(lambda line: len(line) >= 29 and line[0] != 'YEAR' and line[16] != '' and line[11] !='') \\\n",
    "                 .map(convert)\n",
    "\n",
    "    counts.saveAsTextFile(output_path)\n",
    "    sc.stop()\n",
    "\n"
   ]
  },
  {
   "cell_type": "code",
   "execution_count": null,
   "metadata": {},
   "outputs": [],
   "source": []
  },
  {
   "cell_type": "code",
   "execution_count": null,
   "metadata": {},
   "outputs": [],
   "source": []
  }
 ],
 "metadata": {
  "kernelspec": {
   "display_name": "Python 3",
   "language": "python",
   "name": "python3"
  },
  "language_info": {
   "codemirror_mode": {
    "name": "ipython",
    "version": 3
   },
   "file_extension": ".py",
   "mimetype": "text/x-python",
   "name": "python",
   "nbconvert_exporter": "python",
   "pygments_lexer": "ipython3",
   "version": "3.6.7"
  }
 },
 "nbformat": 4,
 "nbformat_minor": 2
}
