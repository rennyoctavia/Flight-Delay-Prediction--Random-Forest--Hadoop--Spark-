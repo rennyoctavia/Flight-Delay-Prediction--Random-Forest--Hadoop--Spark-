{
 "cells": [
  {
   "cell_type": "code",
   "execution_count": 3,
   "metadata": {},
   "outputs": [],
   "source": [
    "from __future__ import print_function\n",
    "\n",
    "import sys\n",
    "from operator import add\n",
    "import pyspark\n",
    "import os\n",
    "import re\n",
    "import numpy as np\n",
    "\n",
    "def square_delta(lines):\n",
    "    re1 = '[+-]?\\d+\\.\\d+'\n",
    "    re2 = '[+-]?\\d+\\.'\n",
    "    numbers = re.compile(\"(%s|%s)\" % (re1, re2)).findall(lines)\n",
    "    return np.square(float(numbers[0])-float(numbers[1]))\n",
    "    \n",
    "\n",
    "if __name__ == \"__main__\":\n",
    "    input_path = \"/mnt/wiktorskit-jungwonseo-ns0000k/home/notebook/group03/Renny-temp/output01/predictions_whole_3000.txt\"\n",
    "    output_path = \"/mnt/wiktorskit-jungwonseo-ns0000k/home/notebook/group03/Renny-temp/RMSE01\"\n",
    "    \n",
    "    if not os.path.isfile(input_path) or \"/mnt/\" not in input_path :\n",
    "        print(\"Please check your input path again\")\n",
    "        sys.exit(-1)\n",
    "\n",
    "    sc = pyspark.SparkContext.getOrCreate()\n",
    "\n",
    "    text_file = sc.textFile(\"file://\"+input_path)\n",
    "    RMSE = text_file.map(lambda line: ('RMSE',[1,square_delta(line)]))\\\n",
    "           .reduceByKey(lambda a, b :[a[0] + b[0], a[1]+b[1]]).map(lambda rmse : ('RMSE',np.sqrt(rmse[1][1]/rmse[1][0])))\n",
    "    \n",
    "    RMSE.saveAsTextFile(output_path)\n",
    "    sc.stop()\n"
   ]
  },
  {
   "cell_type": "code",
   "execution_count": null,
   "metadata": {},
   "outputs": [],
   "source": []
  }
 ],
 "metadata": {
  "kernelspec": {
   "display_name": "Python 3",
   "language": "python",
   "name": "python3"
  },
  "language_info": {
   "codemirror_mode": {
    "name": "ipython",
    "version": 3
   },
   "file_extension": ".py",
   "mimetype": "text/x-python",
   "name": "python",
   "nbconvert_exporter": "python",
   "pygments_lexer": "ipython3",
   "version": "3.6.7"
  }
 },
 "nbformat": 4,
 "nbformat_minor": 2
}
